{
  "nbformat": 4,
  "nbformat_minor": 0,
  "metadata": {
    "colab": {
      "provenance": []
    },
    "kernelspec": {
      "name": "python3",
      "display_name": "Python 3"
    },
    "language_info": {
      "name": "python"
    }
  },
  "cells": [
    {
      "cell_type": "code",
      "execution_count": null,
      "metadata": {
        "colab": {
          "base_uri": "https://localhost:8080/"
        },
        "id": "03zfj1MkTMA5",
        "outputId": "003e8fda-d19a-4522-c73a-72267cf6649f"
      },
      "outputs": [
        {
          "output_type": "stream",
          "name": "stdout",
          "text": [
            "Mounted at /content/gdrive\n"
          ]
        }
      ],
      "source": [
        "from google.colab import drive\n",
        "drive.mount('/content/gdrive')"
      ]
    },
    {
      "cell_type": "code",
      "source": [
        "from keras.models import load_model\n",
        "import tensorflow as tf\n",
        "new_model = tf.keras.models.load_model('/content/gdrive/MyDrive/drowsy_detection/vggRetrain/vgg16Retrain_5epoch')"
      ],
      "metadata": {
        "id": "S5esniLHTWMG"
      },
      "execution_count": null,
      "outputs": []
    },
    {
      "cell_type": "code",
      "source": [
        "!pip install mtcnn"
      ],
      "metadata": {
        "colab": {
          "base_uri": "https://localhost:8080/"
        },
        "id": "SRcxIfy2TgTx",
        "outputId": "37884ced-3cb1-4047-93b8-58af0dabdb12"
      },
      "execution_count": null,
      "outputs": [
        {
          "output_type": "stream",
          "name": "stdout",
          "text": [
            "Looking in indexes: https://pypi.org/simple, https://us-python.pkg.dev/colab-wheels/public/simple/\n",
            "Collecting mtcnn\n",
            "  Downloading mtcnn-0.1.1-py3-none-any.whl (2.3 MB)\n",
            "\u001b[K     |████████████████████████████████| 2.3 MB 7.6 MB/s \n",
            "\u001b[?25hRequirement already satisfied: keras>=2.0.0 in /usr/local/lib/python3.7/dist-packages (from mtcnn) (2.8.0)\n",
            "Requirement already satisfied: opencv-python>=4.1.0 in /usr/local/lib/python3.7/dist-packages (from mtcnn) (4.6.0.66)\n",
            "Requirement already satisfied: numpy>=1.14.5 in /usr/local/lib/python3.7/dist-packages (from opencv-python>=4.1.0->mtcnn) (1.21.6)\n",
            "Installing collected packages: mtcnn\n",
            "Successfully installed mtcnn-0.1.1\n"
          ]
        }
      ]
    },
    {
      "cell_type": "code",
      "source": [
        "import mtcnn\n",
        "# print version\n",
        "print(mtcnn.__version__)"
      ],
      "metadata": {
        "id": "n_J06psfTqrS"
      },
      "execution_count": null,
      "outputs": []
    },
    {
      "cell_type": "code",
      "source": [
        "# Extract only eye region from image - haarcascade\n",
        "import cv2\n",
        "eyeCascade = cv2.CascadeClassifier(cv2.data.haarcascades+\"haarcascade_eye.xml\")\n",
        "leyeCascade = cv2.CascadeClassifier(cv2.data.haarcascades+\"haarcascade_lefteye_2splits.xml\")"
      ],
      "metadata": {
        "id": "sqrMjwt2XaFB"
      },
      "execution_count": null,
      "outputs": []
    },
    {
      "cell_type": "code",
      "source": [
        "class_names = {'Closed': 0, 'Open': 1, 'no_yawn': 2, 'yawn': 3}\n"
      ],
      "metadata": {
        "id": "-9tlRXXEVhgf"
      },
      "execution_count": null,
      "outputs": []
    },
    {
      "cell_type": "code",
      "source": [
        "reversed_dictionary = dict(map(reversed, class_names.items()))"
      ],
      "metadata": {
        "id": "-cgyETHLViVq"
      },
      "execution_count": null,
      "outputs": []
    },
    {
      "cell_type": "code",
      "source": [
        "import tensorflow as tf\n",
        "import numpy as np\n",
        "from PIL import Image\n",
        "import pandas as pd\n",
        "import matplotlib.pyplot as plt\n",
        "import seaborn as sns\n",
        "import warnings\n",
        "warnings.filterwarnings('ignore')\n",
        "from keras.applications.vgg16 import preprocess_input\n",
        "from keras.preprocessing.image import image\n",
        "import os\n"
      ],
      "metadata": {
        "id": "7hq67YDPUMxy"
      },
      "execution_count": null,
      "outputs": []
    },
    {
      "cell_type": "code",
      "source": [
        "def detect_faces_from_img(filename):\n",
        "    pixels = plt.imread(filename)\n",
        "    detector = mtcnn.MTCNN()\n",
        "    faces = detector.detect_faces(pixels)\n",
        "    return faces[0]\n"
      ],
      "metadata": {
        "id": "j4qgCbIrTt9k"
      },
      "execution_count": null,
      "outputs": []
    },
    {
      "cell_type": "code",
      "source": [
        "def crop_faces(face,filename):\n",
        "  img = plt.imread(filename)\n",
        "  x, y, w, h = face['box']\n",
        "  cropimg = img[y:y+h, x:x+w]\n",
        "  return cropimg\n"
      ],
      "metadata": {
        "id": "L2DzZIQCUcsm"
      },
      "execution_count": null,
      "outputs": []
    },
    {
      "cell_type": "code",
      "source": [
        "def get_prediction_eye(filename,model):\n",
        "  face = detect_faces_from_img(filename)\n",
        "  cropimg = crop_faces(face,filename)\n",
        "  imageCrop = np.expand_dims(cropimg, axis=0)\n",
        "  imageCrop = preprocess_input(cropimg)\n",
        "  geteye=leyeCascade.detectMultiScale(cropimg,scaleFactor = 1.1, minNeighbors = 4)\n",
        "  gozler=[]\n",
        "  for (x,y,w,h) in geteye:\n",
        "      gozler.append(cropimg[y:y+h, x:x+w])\n",
        "  try:\n",
        "    imageEye = Image.fromarray(gozler[0].astype(np.uint8))\n",
        "  except:\n",
        "    imageEye=cropimg\n",
        "    print(\"File with no eye region: \"+ filename)\n",
        "\n",
        "  imageEye = np.expand_dims(imageEye, axis=0)\n",
        "  imageEye = preprocess_input(imageEye)\n",
        "  predictions=new_model.predict(imageEye)\n",
        "  return reversed_dictionary.get(np.argmax(predictions))\n",
        "\n",
        "\n",
        "\n",
        "\n"
      ],
      "metadata": {
        "id": "x3vPkmerVUns"
      },
      "execution_count": null,
      "outputs": []
    },
    {
      "cell_type": "code",
      "source": [
        "def get_prediction_yawn(filename,model):\n",
        "  img = image.load_img(filename,color_mode='rgb', target_size=(256, 256))\n",
        "  x = image.img_to_array(img)\n",
        "  # Adding the fouth dimension, for number of images\n",
        "  x = np.expand_dims(x, axis=0)\n",
        "  x = preprocess_input(x)\n",
        "  prediction_yawn = model.predict(x)\n",
        "  return reversed_dictionary.get(np.argmax(prediction_yawn))\n"
      ],
      "metadata": {
        "id": "UoWhFoOPZTf5"
      },
      "execution_count": null,
      "outputs": []
    },
    {
      "cell_type": "code",
      "source": [
        "fileList=[\"/content/gdrive/MyDrive/drowsy_detection/test_images/frame2260.jpg\",\"/content/gdrive/MyDrive/drowsy_detection/test_images/frame150.jpg\",\"/content/gdrive/MyDrive/drowsy_detection/test_images/Data_frames_video/Data_frames/drowsy_data/frame400.jpg\"]"
      ],
      "metadata": {
        "id": "816lcZB6aDB0"
      },
      "execution_count": null,
      "outputs": []
    },
    {
      "cell_type": "code",
      "source": [
        "dir_list = os.listdir('/content/gdrive/MyDrive/drowsy_detection/test_images/Data_frames_video/Data_frames/drowsy_data')\n",
        "fileFolder = '/content/gdrive/MyDrive/drowsy_detection/test_images/Data_frames_video/Data_frames/drowsy_data/'"
      ],
      "metadata": {
        "id": "46gGe1QCldKA"
      },
      "execution_count": null,
      "outputs": []
    },
    {
      "cell_type": "code",
      "source": [
        "len(dir_list)"
      ],
      "metadata": {
        "colab": {
          "base_uri": "https://localhost:8080/"
        },
        "id": "azT9Aumhtro7",
        "outputId": "36c2f90e-7bd2-4561-824d-eef3904cdf47"
      },
      "execution_count": null,
      "outputs": [
        {
          "output_type": "execute_result",
          "data": {
            "text/plain": [
              "265"
            ]
          },
          "metadata": {},
          "execution_count": 52
        }
      ]
    },
    {
      "cell_type": "code",
      "source": [
        "import time\n",
        "start = time.time()\n",
        "\n",
        "predEyeClosedCount = 0\n",
        "predYawn = 0\n",
        "i=0\n",
        "for filename in dir_list:\n",
        "  print(filename,i)\n",
        "  predictionEyeRegion = get_prediction_eye(fileFolder+filename,new_model)\n",
        "  if predictionEyeRegion == 'Closed':\n",
        "    predEyeClosedCount+=1\n",
        "\n",
        "  predictionYawn = get_prediction_yawn(fileFolder+filename,new_model)\n",
        "  if predictionYawn == 'yawn':\n",
        "      predYawn+=1\n",
        "\n",
        "  if predictionEyeRegion == predictionYawn:\n",
        "    predEyeClosedCount-=1\n",
        "  i+=1\n",
        "  #print(predictionEyeRegion,predictionYawn)\n",
        "\n",
        "print(\"--------------------------------------------\")\n",
        "print(\"Number of closed eye time: \"+str(predEyeClosedCount))\n",
        "print(\"Number of yawns: \"+ str(predYawn))\n",
        "print(\"-------------------------------------------\")\n",
        "print(f'Time: {time.time() - start}')\n"
      ],
      "metadata": {
        "colab": {
          "base_uri": "https://localhost:8080/"
        },
        "id": "SwuQyaI1bFo3",
        "outputId": "13cdd1ec-33f1-4dfe-fd76-d4e6c88bcd17"
      },
      "execution_count": null,
      "outputs": [
        {
          "output_type": "stream",
          "name": "stdout",
          "text": [
            "frame400.jpg 0\n",
            "frame190.jpg 1\n",
            "frame0.jpg 2\n",
            "frame60.jpg 3\n",
            "frame90.jpg 4\n",
            "frame40.jpg 5\n",
            "frame80.jpg 6\n",
            "frame20.jpg 7\n",
            "frame50.jpg 8\n",
            "frame100.jpg 9\n",
            "frame30.jpg 10\n",
            "frame70.jpg 11\n",
            "frame10.jpg 12\n",
            "frame150.jpg 13\n",
            "frame290.jpg 14\n",
            "frame270.jpg 15\n",
            "frame220.jpg 16\n",
            "frame300.jpg 17\n",
            "frame140.jpg 18\n",
            "frame280.jpg 19\n",
            "frame250.jpg 20\n",
            "frame380.jpg 21\n",
            "frame310.jpg 22\n",
            "frame410.jpg 23\n",
            "frame240.jpg 24\n",
            "frame260.jpg 25\n",
            "frame320.jpg 26\n",
            "frame170.jpg 27\n",
            "frame130.jpg 28\n",
            "frame200.jpg 29\n",
            "frame230.jpg 30\n",
            "frame350.jpg 31\n",
            "frame180.jpg 32\n",
            "frame160.jpg 33\n",
            "frame370.jpg 34\n",
            "frame110.jpg 35\n",
            "frame330.jpg 36\n",
            "frame340.jpg 37\n",
            "frame390.jpg 38\n",
            "frame120.jpg 39\n",
            "frame210.jpg 40\n",
            "frame360.jpg 41\n",
            "frame600.jpg 42\n",
            "frame430.jpg 43\n",
            "frame720.jpg 44\n",
            "frame460.jpg 45\n",
            "frame490.jpg 46\n",
            "frame630.jpg 47\n",
            "frame510.jpg 48\n",
            "frame550.jpg 49\n",
            "frame500.jpg 50\n",
            "frame580.jpg 51\n",
            "frame590.jpg 52\n",
            "frame450.jpg 53\n",
            "frame480.jpg 54\n",
            "frame690.jpg 55\n",
            "frame670.jpg 56\n",
            "frame640.jpg 57\n",
            "frame610.jpg 58\n",
            "frame650.jpg 59\n",
            "frame420.jpg 60\n",
            "frame660.jpg 61\n",
            "frame560.jpg 62\n",
            "frame440.jpg 63\n",
            "frame470.jpg 64\n",
            "frame680.jpg 65\n",
            "frame520.jpg 66\n",
            "frame710.jpg 67\n",
            "frame530.jpg 68\n",
            "frame540.jpg 69\n",
            "frame620.jpg 70\n",
            "frame700.jpg 71\n",
            "frame570.jpg 72\n",
            "frame980.jpg 73\n",
            "frame1030.jpg 74\n",
            "frame1000.jpg 75\n",
            "frame740.jpg 76\n",
            "frame1040.jpg 77\n",
            "frame1010.jpg 78\n",
            "frame990.jpg 79\n",
            "frame930.jpg 80\n",
            "frame770.jpg 81\n",
            "frame950.jpg 82\n",
            "frame840.jpg 83\n",
            "frame780.jpg 84\n",
            "frame800.jpg 85\n",
            "frame790.jpg 86\n",
            "frame910.jpg 87\n",
            "frame920.jpg 88\n",
            "frame960.jpg 89\n",
            "frame820.jpg 90\n",
            "frame970.jpg 91\n",
            "frame760.jpg 92\n",
            "frame810.jpg 93\n",
            "frame870.jpg 94\n",
            "frame1050.jpg 95\n",
            "frame890.jpg 96\n",
            "frame880.jpg 97\n",
            "frame850.jpg 98\n",
            "frame750.jpg 99\n",
            "frame730.jpg 100\n",
            "frame940.jpg 101\n",
            "frame860.jpg 102\n",
            "frame1020.jpg 103\n",
            "frame900.jpg 104\n",
            "frame1350.jpg 105\n",
            "frame1370.jpg 106\n",
            "frame1150.jpg 107\n",
            "frame1080.jpg 108\n",
            "frame1160.jpg 109\n",
            "frame1340.jpg 110\n",
            "frame1060.jpg 111\n",
            "frame1120.jpg 112\n",
            "frame1260.jpg 113\n",
            "frame1250.jpg 114\n",
            "frame1210.jpg 115\n",
            "frame1180.jpg 116\n",
            "frame1400.jpg 117\n",
            "frame1240.jpg 118\n",
            "frame1140.jpg 119\n",
            "frame1090.jpg 120\n",
            "frame1310.jpg 121\n",
            "frame1100.jpg 122\n",
            "frame1130.jpg 123\n",
            "frame1190.jpg 124\n",
            "frame1300.jpg 125\n",
            "frame1330.jpg 126\n",
            "frame1380.jpg 127\n",
            "frame1280.jpg 128\n",
            "frame1360.jpg 129\n",
            "frame1390.jpg 130\n",
            "frame1290.jpg 131\n",
            "frame1270.jpg 132\n",
            "frame1070.jpg 133\n",
            "frame1220.jpg 134\n",
            "frame1230.jpg 135\n",
            "frame1320.jpg 136\n",
            "frame1200.jpg 137\n",
            "frame1170.jpg 138\n",
            "frame1110.jpg 139\n",
            "frame1720.jpg 140\n",
            "frame1460.jpg 141\n",
            "frame1520.jpg 142\n",
            "frame1560.jpg 143\n",
            "frame1740.jpg 144\n",
            "frame1410.jpg 145\n",
            "frame1470.jpg 146\n",
            "frame1580.jpg 147\n",
            "frame1570.jpg 148\n",
            "frame1640.jpg 149\n",
            "frame1490.jpg 150\n",
            "frame1730.jpg 151\n",
            "frame1590.jpg 152\n",
            "frame1440.jpg 153\n",
            "frame1420.jpg 154\n",
            "frame1650.jpg 155\n",
            "frame1710.jpg 156\n",
            "frame1450.jpg 157\n",
            "frame1550.jpg 158\n",
            "frame1660.jpg 159\n",
            "frame1630.jpg 160\n",
            "frame1680.jpg 161\n",
            "frame1510.jpg 162\n",
            "frame1530.jpg 163\n",
            "frame1500.jpg 164\n",
            "frame1600.jpg 165\n",
            "frame1700.jpg 166\n",
            "frame1480.jpg 167\n",
            "frame1690.jpg 168\n",
            "frame1610.jpg 169\n",
            "frame1430.jpg 170\n",
            "frame1670.jpg 171\n",
            "frame1540.jpg 172\n",
            "frame1620.jpg 173\n",
            "frame2030.jpg 174\n",
            "frame2010.jpg 175\n",
            "frame1790.jpg 176\n",
            "frame1890.jpg 177\n",
            "frame2020.jpg 178\n",
            "frame1800.jpg 179\n",
            "frame1840.jpg 180\n",
            "frame1950.jpg 181\n",
            "frame1810.jpg 182\n",
            "frame1760.jpg 183\n",
            "frame1780.jpg 184\n",
            "frame1980.jpg 185\n",
            "frame1870.jpg 186\n",
            "frame1830.jpg 187\n",
            "frame2070.jpg 188\n",
            "frame2040.jpg 189\n",
            "frame1900.jpg 190\n",
            "frame1990.jpg 191\n",
            "frame1910.jpg 192\n",
            "frame2050.jpg 193\n",
            "frame1770.jpg 194\n",
            "frame2080.jpg 195\n",
            "frame1820.jpg 196\n",
            "frame1850.jpg 197\n",
            "frame1880.jpg 198\n",
            "frame1920.jpg 199\n",
            "frame1860.jpg 200\n",
            "frame1960.jpg 201\n",
            "frame2000.jpg 202\n",
            "frame1930.jpg 203\n",
            "frame2060.jpg 204\n",
            "frame1750.jpg 205\n",
            "frame1940.jpg 206\n",
            "frame1970.jpg 207\n",
            "frame2310.jpg 208\n",
            "frame2190.jpg 209\n",
            "frame2200.jpg 210\n",
            "frame2340.jpg 211\n",
            "frame2390.jpg 212\n",
            "frame2220.jpg 213\n",
            "frame2180.jpg 214\n",
            "frame2210.jpg 215\n",
            "frame2400.jpg 216\n",
            "frame2360.jpg 217\n",
            "frame2230.jpg 218\n",
            "frame2260.jpg 219\n",
            "frame2410.jpg 220\n",
            "frame2300.jpg 221\n",
            "frame2330.jpg 222\n",
            "frame2100.jpg 223\n",
            "frame2090.jpg 224\n",
            "frame2140.jpg 225\n",
            "frame2130.jpg 226\n",
            "frame2160.jpg 227\n",
            "frame2290.jpg 228\n",
            "frame2420.jpg 229\n",
            "frame2380.jpg 230\n",
            "frame2320.jpg 231\n",
            "frame2240.jpg 232\n",
            "frame2270.jpg 233\n",
            "frame2170.jpg 234\n",
            "frame2120.jpg 235\n",
            "frame2350.jpg 236\n",
            "frame2110.jpg 237\n",
            "frame2150.jpg 238\n",
            "frame2250.jpg 239\n",
            "frame2280.jpg 240\n",
            "frame2370.jpg 241\n",
            "frame2510.jpg 242\n",
            "frame2520.jpg 243\n",
            "frame2640.jpg 244\n",
            "frame2590.jpg 245\n",
            "frame2540.jpg 246\n",
            "frame2490.jpg 247\n",
            "frame2560.jpg 248\n",
            "frame2530.jpg 249\n",
            "frame2610.jpg 250\n",
            "frame2570.jpg 251\n",
            "frame2450.jpg 252\n",
            "frame2600.jpg 253\n",
            "frame2460.jpg 254\n",
            "frame2470.jpg 255\n",
            "frame2650.jpg 256\n",
            "frame2620.jpg 257\n",
            "frame2630.jpg 258\n",
            "frame2440.jpg 259\n",
            "frame2480.jpg 260\n",
            "frame2500.jpg 261\n",
            "frame2550.jpg 262\n",
            "frame2580.jpg 263\n",
            "frame2430.jpg 264\n",
            "--------------------------------------------\n",
            "Number of closed eye time: 206\n",
            "Number of yawns: 35\n",
            "-------------------------------------------\n",
            "Time: 619.0510413646698\n"
          ]
        }
      ]
    },
    {
      "cell_type": "code",
      "source": [
        "predEyeClosedCount"
      ],
      "metadata": {
        "colab": {
          "base_uri": "https://localhost:8080/"
        },
        "id": "Dx18YT40C3F2",
        "outputId": "7afe8d55-6a47-457a-e041-90362c417cb4"
      },
      "execution_count": null,
      "outputs": [
        {
          "output_type": "execute_result",
          "data": {
            "text/plain": [
              "205"
            ]
          },
          "metadata": {},
          "execution_count": 54
        }
      ]
    },
    {
      "cell_type": "code",
      "source": [
        "predYawn"
      ],
      "metadata": {
        "colab": {
          "base_uri": "https://localhost:8080/"
        },
        "id": "hT8-1CSlC4a9",
        "outputId": "970f96a0-36ea-4237-dd79-7ceb0afa2924"
      },
      "execution_count": null,
      "outputs": [
        {
          "output_type": "execute_result",
          "data": {
            "text/plain": [
              "35"
            ]
          },
          "metadata": {},
          "execution_count": 56
        }
      ]
    }
  ]
}